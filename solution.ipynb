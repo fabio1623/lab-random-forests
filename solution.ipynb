{
 "cells": [
  {
   "cell_type": "code",
   "execution_count": 47,
   "metadata": {},
   "outputs": [],
   "source": [
    "import pandas as pd\n",
    "import numpy as np\n",
    "import statsmodels.api as sm\n",
    "from sklearn.linear_model import LinearRegression\n",
    "from sklearn.feature_selection import VarianceThreshold, SelectKBest, chi2, RFE\n",
    "from sklearn.preprocessing import MinMaxScaler\n",
    "from sklearn.model_selection import train_test_split, cross_val_score\n",
    "from sklearn.utils import resample\n",
    "from sklearn.ensemble import RandomForestClassifier\n",
    "from sklearn.metrics import confusion_matrix, accuracy_score, precision_score, recall_score, f1_score"
   ]
  },
  {
   "attachments": {},
   "cell_type": "markdown",
   "metadata": {},
   "source": [
    "### `Load data numerical, categorical and target`"
   ]
  },
  {
   "cell_type": "code",
   "execution_count": 48,
   "metadata": {},
   "outputs": [
    {
     "name": "stdout",
     "output_type": "stream",
     "text": [
      "Numericals shape: (95412, 315)\n",
      "Categoricals shape: (95412, 22)\n",
      "Targets shape: (95412, 2)\n"
     ]
    }
   ],
   "source": [
    "numericals = pd.read_csv('files_for_lab/numerical.csv')\n",
    "categoricals = pd.read_csv('files_for_lab/categorical.csv')\n",
    "targets = pd.read_csv('files_for_lab/target.csv')\n",
    "\n",
    "print(f\"Numericals shape: {numericals.shape}\")\n",
    "print(f\"Categoricals shape: {categoricals.shape}\")\n",
    "print(f\"Targets shape: {targets.shape}\")"
   ]
  },
  {
   "cell_type": "code",
   "execution_count": 49,
   "metadata": {},
   "outputs": [],
   "source": [
    "important_columns = ['WEALTH1', 'WEALTH2', 'VETERANS', 'SOLIH']"
   ]
  },
  {
   "attachments": {},
   "cell_type": "markdown",
   "metadata": {},
   "source": [
    "### `Numericals - Variance Threshold`"
   ]
  },
  {
   "cell_type": "code",
   "execution_count": 50,
   "metadata": {},
   "outputs": [],
   "source": [
    "min_max_scaler = MinMaxScaler()\n",
    "numericals_scaled = min_max_scaler.fit_transform(numericals)"
   ]
  },
  {
   "cell_type": "code",
   "execution_count": 51,
   "metadata": {},
   "outputs": [
    {
     "name": "stdout",
     "output_type": "stream",
     "text": [
      "There are '293' columns to drop.\n"
     ]
    }
   ],
   "source": [
    "selector = VarianceThreshold(0.09)\n",
    "selected_numericals = selector.fit_transform(numericals_scaled)\n",
    "\n",
    "columns_to_drop = [col_tuple[0] for col_tuple in zip(numericals.columns, selector.get_support()) if col_tuple[1] == False]\n",
    "\n",
    "print(f\"There are '{len(columns_to_drop)}' columns to drop.\")"
   ]
  },
  {
   "cell_type": "code",
   "execution_count": 52,
   "metadata": {},
   "outputs": [
    {
     "data": {
      "text/plain": [
       "(95412, 22)"
      ]
     },
     "execution_count": 52,
     "metadata": {},
     "output_type": "execute_result"
    }
   ],
   "source": [
    "columns_to_drop = [col for col in columns_to_drop if col not in important_columns]\n",
    "numericals_variance = numericals.drop(columns_to_drop, axis=1)\n",
    "numericals_variance.shape"
   ]
  },
  {
   "cell_type": "code",
   "execution_count": 53,
   "metadata": {},
   "outputs": [
    {
     "data": {
      "text/plain": [
       "(95412, 18)"
      ]
     },
     "execution_count": 53,
     "metadata": {},
     "output_type": "execute_result"
    }
   ],
   "source": [
    "numericals_variance_manual_drop = numericals_variance.drop(['POP90C3', 'HC6', 'HC7', 'CLUSTER2'], axis=1)\n",
    "numericals_variance_manual_drop.shape"
   ]
  },
  {
   "attachments": {},
   "cell_type": "markdown",
   "metadata": {},
   "source": [
    "### `Numericals - Chi2`"
   ]
  },
  {
   "cell_type": "code",
   "execution_count": 54,
   "metadata": {},
   "outputs": [
    {
     "name": "stdout",
     "output_type": "stream",
     "text": [
      "There are '305' columns to drop.\n"
     ]
    }
   ],
   "source": [
    "selector = SelectKBest(chi2, k=10)\n",
    "selector.fit(numericals_scaled, targets[['TARGET_B']])\n",
    "mask = selector.get_support()\n",
    "columns_to_drop = numericals.columns[~mask]\n",
    "\n",
    "print(f\"There are '{len(columns_to_drop)}' columns to drop.\")"
   ]
  },
  {
   "cell_type": "code",
   "execution_count": 55,
   "metadata": {},
   "outputs": [
    {
     "data": {
      "text/plain": [
       "(95412, 12)"
      ]
     },
     "execution_count": 55,
     "metadata": {},
     "output_type": "execute_result"
    }
   ],
   "source": [
    "columns_to_drop = [col for col in columns_to_drop if col not in important_columns]\n",
    "numericals_chi2 = numericals.drop(columns_to_drop, axis=1)\n",
    "numericals_chi2.shape"
   ]
  },
  {
   "attachments": {},
   "cell_type": "markdown",
   "metadata": {},
   "source": [
    "### `Numericals - RFE`"
   ]
  },
  {
   "cell_type": "code",
   "execution_count": 56,
   "metadata": {},
   "outputs": [
    {
     "name": "stdout",
     "output_type": "stream",
     "text": [
      "There are '290' columns to drop.\n"
     ]
    }
   ],
   "source": [
    "model = LinearRegression()\n",
    "\n",
    "# Create an instance of the RFE class\n",
    "rfe = RFE(model, n_features_to_select=25, verbose=False)\n",
    "\n",
    "# Fit the RFE to the DataFrame\n",
    "rfe.fit(numericals_scaled, targets[['TARGET_B']])\n",
    "\n",
    "# Get the boolean mask of the selected columns\n",
    "mask = rfe.support_\n",
    "\n",
    "# Use the mask to obtain the names of the selected columns\n",
    "columns_to_drop = numericals.columns[~mask]\n",
    "\n",
    "print(f\"There are '{len(columns_to_drop)}' columns to drop.\")"
   ]
  },
  {
   "cell_type": "code",
   "execution_count": 57,
   "metadata": {},
   "outputs": [
    {
     "data": {
      "text/plain": [
       "(95412, 27)"
      ]
     },
     "execution_count": 57,
     "metadata": {},
     "output_type": "execute_result"
    }
   ],
   "source": [
    "columns_to_drop = [col for col in columns_to_drop if col not in important_columns]\n",
    "numericals_rfe = numericals.drop(columns_to_drop, axis=1)\n",
    "numericals_rfe.shape"
   ]
  },
  {
   "cell_type": "code",
   "execution_count": 58,
   "metadata": {},
   "outputs": [
    {
     "data": {
      "text/plain": [
       "(95412, 24)"
      ]
     },
     "execution_count": 58,
     "metadata": {},
     "output_type": "execute_result"
    }
   ],
   "source": [
    "numericals_rfe_manual_drop = numericals_rfe.drop(['POP90C1', 'DW1', 'MC2'], axis=1)\n",
    "numericals_rfe_manual_drop.shape"
   ]
  },
  {
   "attachments": {},
   "cell_type": "markdown",
   "metadata": {},
   "source": [
    "### `Numericals - OLS`"
   ]
  },
  {
   "cell_type": "code",
   "execution_count": 59,
   "metadata": {},
   "outputs": [
    {
     "name": "stdout",
     "output_type": "stream",
     "text": [
      "There are '293' columns to drop.\n"
     ]
    }
   ],
   "source": [
    "df = sm.add_constant(numericals_scaled)\n",
    "\n",
    "# Fit the OLS model\n",
    "model = sm.OLS(targets[['TARGET_B']], df)\n",
    "results = model.fit()\n",
    "\n",
    "# Get the p-values of the features\n",
    "pvalues = results.pvalues\n",
    "\n",
    "# Select the features with a p-value more than 0.05\n",
    "columns_to_drop = [col_tuple[0] for col_tuple in zip(numericals.columns, pvalues[1::]) if col_tuple[1] > 0.05]\n",
    "print(f\"There are '{len(columns_to_drop)}' columns to drop.\")"
   ]
  },
  {
   "cell_type": "code",
   "execution_count": 60,
   "metadata": {},
   "outputs": [
    {
     "data": {
      "text/plain": [
       "(95412, 23)"
      ]
     },
     "execution_count": 60,
     "metadata": {},
     "output_type": "execute_result"
    }
   ],
   "source": [
    "columns_to_drop = [col for col in columns_to_drop if col not in important_columns]\n",
    "numericals_ols = numericals.drop(columns_to_drop, axis=1)\n",
    "numericals_ols.shape"
   ]
  },
  {
   "attachments": {},
   "cell_type": "markdown",
   "metadata": {},
   "source": [
    "### `Categoricals`"
   ]
  },
  {
   "cell_type": "code",
   "execution_count": 61,
   "metadata": {},
   "outputs": [],
   "source": [
    "object_columns_from_categoricals = [col for col in categoricals.columns if categoricals[col].dtype == object]\n",
    "for col in object_columns_from_categoricals:\n",
    "    categoricals[col] = pd.factorize(categoricals[col])[0]"
   ]
  },
  {
   "cell_type": "code",
   "execution_count": 62,
   "metadata": {},
   "outputs": [
    {
     "data": {
      "text/plain": [
       "(95412, 21)"
      ]
     },
     "execution_count": 62,
     "metadata": {},
     "output_type": "execute_result"
    }
   ],
   "source": [
    "# 'RFA_2R' has only 1 unique value so we can drop it\n",
    "\n",
    "categoricals.drop('RFA_2R', axis=1, inplace=True)\n",
    "categoricals.shape"
   ]
  },
  {
   "attachments": {},
   "cell_type": "markdown",
   "metadata": {},
   "source": [
    "### `Oversample label`"
   ]
  },
  {
   "cell_type": "code",
   "execution_count": 63,
   "metadata": {},
   "outputs": [
    {
     "data": {
      "text/plain": [
       "(90569, 1)"
      ]
     },
     "execution_count": 63,
     "metadata": {},
     "output_type": "execute_result"
    }
   ],
   "source": [
    "target_b = targets[['TARGET_B']]\n",
    "target_b['TARGET_B'].value_counts()\n",
    "\n",
    "target_b_0 = target_b[target_b['TARGET_B'] == 0]\n",
    "target_b_1 = target_b[target_b['TARGET_B'] == 1]\n",
    "\n",
    "target_b_1_undersampled = resample(target_b_1, replace=True, n_samples=len(target_b_0))\n",
    "target_b_1_undersampled.shape"
   ]
  },
  {
   "cell_type": "code",
   "execution_count": 64,
   "metadata": {},
   "outputs": [
    {
     "data": {
      "text/plain": [
       "0    90569\n",
       "1    90569\n",
       "Name: TARGET_B, dtype: int64"
      ]
     },
     "execution_count": 64,
     "metadata": {},
     "output_type": "execute_result"
    }
   ],
   "source": [
    "target_b_oversampled = pd.concat([target_b_0, target_b_1_undersampled], axis=0)\n",
    "target_b_oversampled['TARGET_B'].value_counts()"
   ]
  },
  {
   "attachments": {},
   "cell_type": "markdown",
   "metadata": {},
   "source": [
    "### `Check accuracy with sets of selected columns`"
   ]
  },
  {
   "attachments": {},
   "cell_type": "markdown",
   "metadata": {},
   "source": [
    "#### `Helper functions`"
   ]
  },
  {
   "cell_type": "code",
   "execution_count": 65,
   "metadata": {},
   "outputs": [],
   "source": [
    "def get_full_dfs_tuples(targets, selected_numericals_df_tuples):\n",
    "    return [\n",
    "        (sub_df[0], pd.concat([targets, sub_df[1], categoricals], axis=1).dropna(axis=0).sample(frac=1, random_state=10))\n",
    "            for sub_df in selected_numericals_df_tuples\n",
    "    ]\n",
    "\n",
    "def score_selected_columns(targets, selected_numericals_df_list):\n",
    "    index = 1\n",
    "    df_tuples = get_full_dfs_tuples(targets, selected_numericals_df_list)\n",
    "    for tuple in df_tuples:\n",
    "\n",
    "        print(\"================================\")\n",
    "        print(f\"{tuple[0]}\")\n",
    "\n",
    "        y = tuple[1]['TARGET_B']\n",
    "        X = tuple[1].drop('TARGET_B', axis=1)\n",
    "        X_train, X_test, y_train, y_test = train_test_split(X, y, test_size=0.2, random_state=10)\n",
    "\n",
    "        # Scaling data = X_train\n",
    "        X_train_transformer = MinMaxScaler().fit(X_train)\n",
    "        X_train_normalized = X_train_transformer.transform(X_train)\n",
    "        X_train_normalized = pd.DataFrame(X_train_normalized)\n",
    "\n",
    "        # Scaling data = X_test\n",
    "        X_test_transformer = MinMaxScaler().fit(X_test)\n",
    "        X_test_normalized = X_test_transformer.transform(X_test)\n",
    "        X_test_normalized = pd.DataFrame(X_test_normalized)\n",
    "\n",
    "        # Create an instance of the RandomForestClassifier\n",
    "        clf = RandomForestClassifier(max_depth=5,\n",
    "                             min_samples_split=20,\n",
    "                             min_samples_leaf=20)\n",
    "\n",
    "        # Fit the classifier to the training data\n",
    "        clf.fit(X_train_normalized, y_train)\n",
    "\n",
    "        # Make predictions on the test data\n",
    "        y_pred = clf.predict(X_test_normalized)\n",
    "\n",
    "        # Calculate the accuracy of the model\n",
    "        display(confusion_matrix(y_test, y_pred))\n",
    "\n",
    "        scores = cross_val_score(clf, X_train_normalized, y_train, cv=10)\n",
    "        # Print the mean and standard deviation of the scores\n",
    "        print(\"Accuracy: %0.2f (+/- %0.2f)\" % (scores.mean(), scores.std() * 2))\n",
    "\n",
    "        accuracy = accuracy_score(y_test, y_pred)\n",
    "        print(f\"accuracy: {accuracy}\")\n",
    "        print(\"precision: \",precision_score(y_test, y_pred, zero_division=0))\n",
    "        print(\"recall: \",recall_score(y_test, y_pred))\n",
    "        print(\"f1: \",f1_score(y_test, y_pred))\n",
    "        \n",
    "        print(\"================================\")\n",
    "\n",
    "        index += 1"
   ]
  },
  {
   "attachments": {},
   "cell_type": "markdown",
   "metadata": {},
   "source": [
    "#### `With imbalanced label`"
   ]
  },
  {
   "cell_type": "code",
   "execution_count": 66,
   "metadata": {},
   "outputs": [
    {
     "name": "stdout",
     "output_type": "stream",
     "text": [
      "================================\n",
      "numericals\n"
     ]
    },
    {
     "data": {
      "text/plain": [
       "array([[18131,     0],\n",
       "       [  952,     0]])"
      ]
     },
     "metadata": {},
     "output_type": "display_data"
    },
    {
     "name": "stdout",
     "output_type": "stream",
     "text": [
      "Accuracy: 0.95 (+/- 0.00)\n",
      "accuracy: 0.9501126657234188\n",
      "precision:  0.0\n",
      "recall:  0.0\n",
      "f1:  0.0\n",
      "================================\n",
      "================================\n",
      "numericals_variance\n"
     ]
    },
    {
     "data": {
      "text/plain": [
       "array([[18104,     0],\n",
       "       [  979,     0]])"
      ]
     },
     "metadata": {},
     "output_type": "display_data"
    },
    {
     "name": "stdout",
     "output_type": "stream",
     "text": [
      "Accuracy: 0.95 (+/- 0.00)\n",
      "accuracy: 0.9486977938479275\n",
      "precision:  0.0\n",
      "recall:  0.0\n",
      "f1:  0.0\n",
      "================================\n",
      "================================\n",
      "numericals_variance_manual_drop\n"
     ]
    },
    {
     "data": {
      "text/plain": [
       "array([[18110,     0],\n",
       "       [  973,     0]])"
      ]
     },
     "metadata": {},
     "output_type": "display_data"
    },
    {
     "name": "stdout",
     "output_type": "stream",
     "text": [
      "Accuracy: 0.95 (+/- 0.00)\n",
      "accuracy: 0.9490122098202589\n",
      "precision:  0.0\n",
      "recall:  0.0\n",
      "f1:  0.0\n",
      "================================\n",
      "================================\n",
      "numericals_chi2\n"
     ]
    },
    {
     "data": {
      "text/plain": [
       "array([[18124,     0],\n",
       "       [  959,     0]])"
      ]
     },
     "metadata": {},
     "output_type": "display_data"
    },
    {
     "name": "stdout",
     "output_type": "stream",
     "text": [
      "Accuracy: 0.95 (+/- 0.00)\n",
      "accuracy: 0.9497458470890321\n",
      "precision:  0.0\n",
      "recall:  0.0\n",
      "f1:  0.0\n",
      "================================\n",
      "================================\n",
      "numericals_rfe\n"
     ]
    },
    {
     "data": {
      "text/plain": [
       "array([[18145,     0],\n",
       "       [  938,     0]])"
      ]
     },
     "metadata": {},
     "output_type": "display_data"
    },
    {
     "name": "stdout",
     "output_type": "stream",
     "text": [
      "Accuracy: 0.95 (+/- 0.00)\n",
      "accuracy: 0.950846302992192\n",
      "precision:  0.0\n",
      "recall:  0.0\n",
      "f1:  0.0\n",
      "================================\n",
      "================================\n",
      "numericals_rfe_manual_drop\n"
     ]
    },
    {
     "data": {
      "text/plain": [
       "array([[18144,     0],\n",
       "       [  939,     0]])"
      ]
     },
     "metadata": {},
     "output_type": "display_data"
    },
    {
     "name": "stdout",
     "output_type": "stream",
     "text": [
      "Accuracy: 0.95 (+/- 0.00)\n",
      "accuracy: 0.9507939003301368\n",
      "precision:  0.0\n",
      "recall:  0.0\n",
      "f1:  0.0\n",
      "================================\n",
      "================================\n",
      "numericals_ols\n"
     ]
    },
    {
     "data": {
      "text/plain": [
       "array([[18097,     0],\n",
       "       [  986,     0]])"
      ]
     },
     "metadata": {},
     "output_type": "display_data"
    },
    {
     "name": "stdout",
     "output_type": "stream",
     "text": [
      "Accuracy: 0.95 (+/- 0.00)\n",
      "accuracy: 0.9483309752135408\n",
      "precision:  0.0\n",
      "recall:  0.0\n",
      "f1:  0.0\n",
      "================================\n"
     ]
    }
   ],
   "source": [
    "selected_numericals_df_list = [\n",
    "    ('numericals', numericals), \n",
    "    ('numericals_variance', numericals_variance), \n",
    "    ('numericals_variance_manual_drop', numericals_variance_manual_drop),\n",
    "    ('numericals_chi2', numericals_chi2),\n",
    "    ('numericals_rfe', numericals_rfe),\n",
    "    ('numericals_rfe_manual_drop', numericals_rfe_manual_drop),\n",
    "    ('numericals_ols', numericals_ols)\n",
    "]\n",
    "\n",
    "score_selected_columns(targets[['TARGET_B']], selected_numericals_df_list)"
   ]
  },
  {
   "attachments": {},
   "cell_type": "markdown",
   "metadata": {},
   "source": [
    "#### `With Oversampling`"
   ]
  },
  {
   "cell_type": "code",
   "execution_count": 67,
   "metadata": {},
   "outputs": [
    {
     "name": "stdout",
     "output_type": "stream",
     "text": [
      "================================\n",
      "numericals\n"
     ]
    },
    {
     "data": {
      "text/plain": [
       "array([[12703,  5681],\n",
       "       [ 8773,  9071]])"
      ]
     },
     "metadata": {},
     "output_type": "display_data"
    },
    {
     "name": "stdout",
     "output_type": "stream",
     "text": [
      "Accuracy: 0.61 (+/- 0.01)\n",
      "accuracy: 0.6010268300761842\n",
      "precision:  0.6148996746203904\n",
      "recall:  0.5083501457072406\n",
      "f1:  0.5565713584488894\n",
      "================================\n",
      "================================\n",
      "numericals_variance\n"
     ]
    },
    {
     "data": {
      "text/plain": [
       "array([[10613,  7403],\n",
       "       [ 7119, 11093]])"
      ]
     },
     "metadata": {},
     "output_type": "display_data"
    },
    {
     "name": "stdout",
     "output_type": "stream",
     "text": [
      "Accuracy: 0.60 (+/- 0.01)\n",
      "accuracy: 0.599149828861654\n",
      "precision:  0.5997512975778547\n",
      "recall:  0.6091038875466726\n",
      "f1:  0.6043914133158984\n",
      "================================\n",
      "================================\n",
      "numericals_variance_manual_drop\n"
     ]
    },
    {
     "data": {
      "text/plain": [
       "array([[11545,  6606],\n",
       "       [ 8008, 10069]])"
      ]
     },
     "metadata": {},
     "output_type": "display_data"
    },
    {
     "name": "stdout",
     "output_type": "stream",
     "text": [
      "Accuracy: 0.60 (+/- 0.01)\n",
      "accuracy: 0.5966103566302308\n",
      "precision:  0.6038380809595202\n",
      "recall:  0.5570061403994025\n",
      "f1:  0.5794774401473296\n",
      "================================\n",
      "================================\n",
      "numericals_chi2\n"
     ]
    },
    {
     "data": {
      "text/plain": [
       "array([[11117,  7038],\n",
       "       [ 7362, 10711]])"
      ]
     },
     "metadata": {},
     "output_type": "display_data"
    },
    {
     "name": "stdout",
     "output_type": "stream",
     "text": [
      "Accuracy: 0.60 (+/- 0.01)\n",
      "accuracy: 0.6025173898641935\n",
      "precision:  0.6034706180629895\n",
      "recall:  0.5926520223537874\n",
      "f1:  0.5980123946178326\n",
      "================================\n",
      "================================\n",
      "numericals_rfe\n"
     ]
    },
    {
     "data": {
      "text/plain": [
       "array([[16237,  1847],\n",
       "       [14346,  3798]])"
      ]
     },
     "metadata": {},
     "output_type": "display_data"
    },
    {
     "name": "stdout",
     "output_type": "stream",
     "text": [
      "Accuracy: 0.59 (+/- 0.01)\n",
      "accuracy: 0.553025284310478\n",
      "precision:  0.6728077945084145\n",
      "recall:  0.20932539682539683\n",
      "f1:  0.31930724284333095\n",
      "================================\n",
      "================================\n",
      "numericals_rfe_manual_drop\n"
     ]
    },
    {
     "data": {
      "text/plain": [
       "array([[15071,  2984],\n",
       "       [12647,  5526]])"
      ]
     },
     "metadata": {},
     "output_type": "display_data"
    },
    {
     "name": "stdout",
     "output_type": "stream",
     "text": [
      "Accuracy: 0.59 (+/- 0.01)\n",
      "accuracy: 0.5685381472893895\n",
      "precision:  0.6493537015276146\n",
      "recall:  0.3040774775766247\n",
      "f1:  0.4141963047633324\n",
      "================================\n",
      "================================\n",
      "numericals_ols\n"
     ]
    },
    {
     "data": {
      "text/plain": [
       "array([[12867,  5212],\n",
       "       [ 9548,  8601]])"
      ]
     },
     "metadata": {},
     "output_type": "display_data"
    },
    {
     "name": "stdout",
     "output_type": "stream",
     "text": [
      "Accuracy: 0.60 (+/- 0.01)\n",
      "accuracy: 0.5925803246107982\n",
      "precision:  0.6226742923333092\n",
      "recall:  0.47391040828695796\n",
      "f1:  0.5382016144171203\n",
      "================================\n"
     ]
    }
   ],
   "source": [
    "score_selected_columns(target_b_oversampled, selected_numericals_df_list)"
   ]
  },
  {
   "attachments": {},
   "cell_type": "markdown",
   "metadata": {},
   "source": [
    "#### `Comments`"
   ]
  },
  {
   "cell_type": "code",
   "execution_count": 68,
   "metadata": {},
   "outputs": [],
   "source": [
    "# Without Oversampling, models seem only to predict people that are not willing to donate.\n",
    "# With Oversampling, it seems that results are better without filtering columns but overall less interesting than those seen on the previous lab (lab-handling-data-imbalance-classification).\n",
    "# We are going to continue with colomns selected by the variance threshhold"
   ]
  }
 ],
 "metadata": {
  "kernelspec": {
   "display_name": "base",
   "language": "python",
   "name": "python3"
  },
  "language_info": {
   "codemirror_mode": {
    "name": "ipython",
    "version": 3
   },
   "file_extension": ".py",
   "mimetype": "text/x-python",
   "name": "python",
   "nbconvert_exporter": "python",
   "pygments_lexer": "ipython3",
   "version": "3.9.13"
  },
  "orig_nbformat": 4,
  "vscode": {
   "interpreter": {
    "hash": "40d3a090f54c6569ab1632332b64b2c03c39dcf918b08424e98f38b5ae0af88f"
   }
  }
 },
 "nbformat": 4,
 "nbformat_minor": 2
}
